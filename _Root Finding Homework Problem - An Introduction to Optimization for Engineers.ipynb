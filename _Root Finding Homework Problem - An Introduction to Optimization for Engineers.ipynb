{
 "cells": [
  {
   "cell_type": "code",
   "execution_count": 91,
   "metadata": {},
   "outputs": [],
   "source": [
    "using Plots"
   ]
  },
  {
   "cell_type": "code",
   "execution_count": 92,
   "metadata": {},
   "outputs": [
    {
     "data": {
      "text/plain": [
       "401-element Array{Float64,1}:\n",
       " -4.128553093698729\n",
       " -4.104023202853969\n",
       " -4.07974120135645\n",
       " -4.055646646757682\n",
       " -4.031679283148849\n",
       " -4.007779134071054\n",
       " -3.9838865949946722\n",
       " -3.959942525225217\n",
       " -3.9358883390939994\n",
       " -3.911666096292988\n",
       " -3.887218591214563\n",
       " -3.862489441158413\n",
       " -3.837423173269577\n",
       "  ⋮\n",
       " -3.0086283914908076\n",
       " -3.0288397582153817\n",
       " -3.0487694799622336\n",
       " -3.0684739394316676\n",
       " -3.0880103422313105\n",
       " -3.1074366286691912\n",
       " -3.1268113844139993\n",
       " -3.1461937501602204\n",
       " -3.1656433304374794\n",
       " -3.1852201017046706\n",
       " -3.204984319870613\n",
       " -3.2249964273838003"
      ]
     },
     "execution_count": 92,
     "metadata": {},
     "output_type": "execute_result"
    }
   ],
   "source": [
    "x = LinRange(-pi, 4*pi, 401)\n",
    "f = sin.(x) - ((x.^2)/10) + x"
   ]
  },
  {
   "cell_type": "code",
   "execution_count": 93,
   "metadata": {},
   "outputs": [
    {
     "data": {
      "image/svg+xml": [
       "<?xml version=\"1.0\" encoding=\"utf-8\"?>\n",
       "<svg xmlns=\"http://www.w3.org/2000/svg\" xmlns:xlink=\"http://www.w3.org/1999/xlink\" width=\"600\" height=\"400\" viewBox=\"0 0 2400 1600\">\n",
       "<defs>\n",
       "  <clipPath id=\"clip7700\">\n",
       "    <rect x=\"0\" y=\"0\" width=\"2400\" height=\"1600\"/>\n",
       "  </clipPath>\n",
       "</defs>\n",
       "<path clip-path=\"url(#clip7700)\" d=\"\n",
       "M0 1600 L2400 1600 L2400 0 L0 0  Z\n",
       "  \" fill=\"#ffffff\" fill-rule=\"evenodd\" fill-opacity=\"1\"/>\n",
       "<defs>\n",
       "  <clipPath id=\"clip7701\">\n",
       "    <rect x=\"480\" y=\"0\" width=\"1681\" height=\"1600\"/>\n",
       "  </clipPath>\n",
       "</defs>\n",
       "<path clip-path=\"url(#clip7700)\" d=\"\n",
       "M141.865 1487.47 L2352.76 1487.47 L2352.76 47.2441 L141.865 47.2441  Z\n",
       "  \" fill=\"#ffffff\" fill-rule=\"evenodd\" fill-opacity=\"1\"/>\n",
       "<defs>\n",
       "  <clipPath id=\"clip7702\">\n",
       "    <rect x=\"141\" y=\"47\" width=\"2212\" height=\"1441\"/>\n",
       "  </clipPath>\n",
       "</defs>\n",
       "<polyline clip-path=\"url(#clip7702)\" style=\"stroke:#000000; stroke-width:2; stroke-opacity:0.1; fill:none\" points=\"\n",
       "  356.021,1487.47 356.021,47.2441 \n",
       "  \"/>\n",
       "<polyline clip-path=\"url(#clip7702)\" style=\"stroke:#000000; stroke-width:2; stroke-opacity:0.1; fill:none\" points=\"\n",
       "  621.586,1487.47 621.586,47.2441 \n",
       "  \"/>\n",
       "<polyline clip-path=\"url(#clip7702)\" style=\"stroke:#000000; stroke-width:2; stroke-opacity:0.1; fill:none\" points=\"\n",
       "  887.152,1487.47 887.152,47.2441 \n",
       "  \"/>\n",
       "<polyline clip-path=\"url(#clip7702)\" style=\"stroke:#000000; stroke-width:2; stroke-opacity:0.1; fill:none\" points=\"\n",
       "  1152.72,1487.47 1152.72,47.2441 \n",
       "  \"/>\n",
       "<polyline clip-path=\"url(#clip7702)\" style=\"stroke:#000000; stroke-width:2; stroke-opacity:0.1; fill:none\" points=\"\n",
       "  1418.28,1487.47 1418.28,47.2441 \n",
       "  \"/>\n",
       "<polyline clip-path=\"url(#clip7702)\" style=\"stroke:#000000; stroke-width:2; stroke-opacity:0.1; fill:none\" points=\"\n",
       "  1683.85,1487.47 1683.85,47.2441 \n",
       "  \"/>\n",
       "<polyline clip-path=\"url(#clip7702)\" style=\"stroke:#000000; stroke-width:2; stroke-opacity:0.1; fill:none\" points=\"\n",
       "  1949.41,1487.47 1949.41,47.2441 \n",
       "  \"/>\n",
       "<polyline clip-path=\"url(#clip7702)\" style=\"stroke:#000000; stroke-width:2; stroke-opacity:0.1; fill:none\" points=\"\n",
       "  1949.41,1487.47 1949.41,47.2441 \n",
       "  \"/>\n",
       "<polyline clip-path=\"url(#clip7702)\" style=\"stroke:#000000; stroke-width:2; stroke-opacity:0.1; fill:none\" points=\"\n",
       "  141.865,1421.59 2352.76,1421.59 \n",
       "  \"/>\n",
       "<polyline clip-path=\"url(#clip7702)\" style=\"stroke:#000000; stroke-width:2; stroke-opacity:0.1; fill:none\" points=\"\n",
       "  141.865,1030.7 2352.76,1030.7 \n",
       "  \"/>\n",
       "<polyline clip-path=\"url(#clip7702)\" style=\"stroke:#000000; stroke-width:2; stroke-opacity:0.1; fill:none\" points=\"\n",
       "  141.865,639.808 2352.76,639.808 \n",
       "  \"/>\n",
       "<polyline clip-path=\"url(#clip7702)\" style=\"stroke:#000000; stroke-width:2; stroke-opacity:0.1; fill:none\" points=\"\n",
       "  141.865,248.917 2352.76,248.917 \n",
       "  \"/>\n",
       "<polyline clip-path=\"url(#clip7700)\" style=\"stroke:#000000; stroke-width:4; stroke-opacity:1; fill:none\" points=\"\n",
       "  141.865,1487.47 2352.76,1487.47 \n",
       "  \"/>\n",
       "<polyline clip-path=\"url(#clip7700)\" style=\"stroke:#000000; stroke-width:4; stroke-opacity:1; fill:none\" points=\"\n",
       "  141.865,1487.47 141.865,47.2441 \n",
       "  \"/>\n",
       "<polyline clip-path=\"url(#clip7700)\" style=\"stroke:#000000; stroke-width:4; stroke-opacity:1; fill:none\" points=\"\n",
       "  356.021,1487.47 356.021,1470.19 \n",
       "  \"/>\n",
       "<polyline clip-path=\"url(#clip7700)\" style=\"stroke:#000000; stroke-width:4; stroke-opacity:1; fill:none\" points=\"\n",
       "  621.586,1487.47 621.586,1470.19 \n",
       "  \"/>\n",
       "<polyline clip-path=\"url(#clip7700)\" style=\"stroke:#000000; stroke-width:4; stroke-opacity:1; fill:none\" points=\"\n",
       "  887.152,1487.47 887.152,1470.19 \n",
       "  \"/>\n",
       "<polyline clip-path=\"url(#clip7700)\" style=\"stroke:#000000; stroke-width:4; stroke-opacity:1; fill:none\" points=\"\n",
       "  1152.72,1487.47 1152.72,1470.19 \n",
       "  \"/>\n",
       "<polyline clip-path=\"url(#clip7700)\" style=\"stroke:#000000; stroke-width:4; stroke-opacity:1; fill:none\" points=\"\n",
       "  1418.28,1487.47 1418.28,1470.19 \n",
       "  \"/>\n",
       "<polyline clip-path=\"url(#clip7700)\" style=\"stroke:#000000; stroke-width:4; stroke-opacity:1; fill:none\" points=\"\n",
       "  1683.85,1487.47 1683.85,1470.19 \n",
       "  \"/>\n",
       "<polyline clip-path=\"url(#clip7700)\" style=\"stroke:#000000; stroke-width:4; stroke-opacity:1; fill:none\" points=\"\n",
       "  1949.41,1487.47 1949.41,1470.19 \n",
       "  \"/>\n",
       "<polyline clip-path=\"url(#clip7700)\" style=\"stroke:#000000; stroke-width:4; stroke-opacity:1; fill:none\" points=\"\n",
       "  1949.41,1487.47 1949.41,1470.19 \n",
       "  \"/>\n",
       "<polyline clip-path=\"url(#clip7700)\" style=\"stroke:#000000; stroke-width:4; stroke-opacity:1; fill:none\" points=\"\n",
       "  141.865,1421.59 168.395,1421.59 \n",
       "  \"/>\n",
       "<polyline clip-path=\"url(#clip7700)\" style=\"stroke:#000000; stroke-width:4; stroke-opacity:1; fill:none\" points=\"\n",
       "  141.865,1030.7 168.395,1030.7 \n",
       "  \"/>\n",
       "<polyline clip-path=\"url(#clip7700)\" style=\"stroke:#000000; stroke-width:4; stroke-opacity:1; fill:none\" points=\"\n",
       "  141.865,639.808 168.395,639.808 \n",
       "  \"/>\n",
       "<polyline clip-path=\"url(#clip7700)\" style=\"stroke:#000000; stroke-width:4; stroke-opacity:1; fill:none\" points=\"\n",
       "  141.865,248.917 168.395,248.917 \n",
       "  \"/>\n",
       "<g clip-path=\"url(#clip7700)\">\n",
       "<text style=\"fill:#000000; fill-opacity:1; font-family:Arial,Helvetica Neue,Helvetica,sans-serif; font-size:48px; text-anchor:middle;\" transform=\"rotate(0, 356.021, 1541.47)\" x=\"356.021\" y=\"1541.47\">-2</text>\n",
       "</g>\n",
       "<g clip-path=\"url(#clip7700)\">\n",
       "<text style=\"fill:#000000; fill-opacity:1; font-family:Arial,Helvetica Neue,Helvetica,sans-serif; font-size:48px; text-anchor:middle;\" transform=\"rotate(0, 621.586, 1541.47)\" x=\"621.586\" y=\"1541.47\">0</text>\n",
       "</g>\n",
       "<g clip-path=\"url(#clip7700)\">\n",
       "<text style=\"fill:#000000; fill-opacity:1; font-family:Arial,Helvetica Neue,Helvetica,sans-serif; font-size:48px; text-anchor:middle;\" transform=\"rotate(0, 887.152, 1541.47)\" x=\"887.152\" y=\"1541.47\">2</text>\n",
       "</g>\n",
       "<g clip-path=\"url(#clip7700)\">\n",
       "<text style=\"fill:#000000; fill-opacity:1; font-family:Arial,Helvetica Neue,Helvetica,sans-serif; font-size:48px; text-anchor:middle;\" transform=\"rotate(0, 1152.72, 1541.47)\" x=\"1152.72\" y=\"1541.47\">4</text>\n",
       "</g>\n",
       "<g clip-path=\"url(#clip7700)\">\n",
       "<text style=\"fill:#000000; fill-opacity:1; font-family:Arial,Helvetica Neue,Helvetica,sans-serif; font-size:48px; text-anchor:middle;\" transform=\"rotate(0, 1418.28, 1541.47)\" x=\"1418.28\" y=\"1541.47\">6</text>\n",
       "</g>\n",
       "<g clip-path=\"url(#clip7700)\">\n",
       "<text style=\"fill:#000000; fill-opacity:1; font-family:Arial,Helvetica Neue,Helvetica,sans-serif; font-size:48px; text-anchor:middle;\" transform=\"rotate(0, 1683.85, 1541.47)\" x=\"1683.85\" y=\"1541.47\">8</text>\n",
       "</g>\n",
       "<g clip-path=\"url(#clip7700)\">\n",
       "<text style=\"fill:#000000; fill-opacity:1; font-family:Arial,Helvetica Neue,Helvetica,sans-serif; font-size:48px; text-anchor:middle;\" transform=\"rotate(0, 1949.41, 1541.47)\" x=\"1949.41\" y=\"1541.47\">10</text>\n",
       "</g>\n",
       "<g clip-path=\"url(#clip7700)\">\n",
       "<text style=\"fill:#000000; fill-opacity:1; font-family:Arial,Helvetica Neue,Helvetica,sans-serif; font-size:48px; text-anchor:middle;\" transform=\"rotate(0, 1949.41, 1541.47)\" x=\"1949.41\" y=\"1541.47\">10</text>\n",
       "</g>\n",
       "<g clip-path=\"url(#clip7700)\">\n",
       "<text style=\"fill:#000000; fill-opacity:1; font-family:Arial,Helvetica Neue,Helvetica,sans-serif; font-size:48px; text-anchor:end;\" transform=\"rotate(0, 117.865, 1439.09)\" x=\"117.865\" y=\"1439.09\">-4</text>\n",
       "</g>\n",
       "<g clip-path=\"url(#clip7700)\">\n",
       "<text style=\"fill:#000000; fill-opacity:1; font-family:Arial,Helvetica Neue,Helvetica,sans-serif; font-size:48px; text-anchor:end;\" transform=\"rotate(0, 117.865, 1048.2)\" x=\"117.865\" y=\"1048.2\">-2</text>\n",
       "</g>\n",
       "<g clip-path=\"url(#clip7700)\">\n",
       "<text style=\"fill:#000000; fill-opacity:1; font-family:Arial,Helvetica Neue,Helvetica,sans-serif; font-size:48px; text-anchor:end;\" transform=\"rotate(0, 117.865, 657.308)\" x=\"117.865\" y=\"657.308\">0</text>\n",
       "</g>\n",
       "<g clip-path=\"url(#clip7700)\">\n",
       "<text style=\"fill:#000000; fill-opacity:1; font-family:Arial,Helvetica Neue,Helvetica,sans-serif; font-size:48px; text-anchor:end;\" transform=\"rotate(0, 117.865, 266.417)\" x=\"117.865\" y=\"266.417\">2</text>\n",
       "</g>\n",
       "<polyline clip-path=\"url(#clip7702)\" style=\"stroke:#009af9; stroke-width:4; stroke-opacity:1; fill:none\" points=\"\n",
       "  204.437,1446.71 209.651,1441.92 214.866,1437.17 220.08,1432.46 225.294,1427.78 230.509,1423.11 235.723,1418.44 240.938,1413.76 246.152,1409.06 251.366,1404.32 \n",
       "  256.581,1399.55 261.795,1394.71 267.009,1389.81 272.224,1384.84 277.438,1379.78 282.652,1374.62 287.867,1369.35 293.081,1363.96 298.296,1358.45 303.51,1352.81 \n",
       "  308.724,1347.02 313.939,1341.08 319.153,1334.97 324.367,1328.7 329.582,1322.25 334.796,1315.62 340.01,1308.8 345.225,1301.78 350.439,1294.56 355.654,1287.13 \n",
       "  360.868,1279.48 366.082,1271.62 371.297,1263.54 376.511,1255.22 381.725,1246.68 386.94,1237.91 392.154,1228.9 397.369,1219.66 402.583,1210.17 407.797,1200.45 \n",
       "  413.012,1190.48 418.226,1180.27 423.44,1169.83 428.655,1159.14 433.869,1148.21 439.083,1137.05 444.298,1125.65 449.512,1114.02 454.727,1102.15 459.941,1090.07 \n",
       "  465.155,1077.75 470.37,1065.23 475.584,1052.48 480.798,1039.53 486.013,1026.38 491.227,1013.03 496.441,999.49 501.656,985.766 506.87,971.866 512.085,957.797 \n",
       "  517.299,943.567 522.513,929.184 527.728,914.657 532.942,899.994 538.156,885.205 543.371,870.299 548.585,855.287 553.799,840.176 559.014,824.979 564.228,809.706 \n",
       "  569.443,794.366 574.657,778.972 579.871,763.533 585.086,748.062 590.3,732.569 595.514,717.066 600.729,701.565 605.943,686.076 611.158,670.613 616.372,655.186 \n",
       "  621.586,639.808 626.801,624.49 632.015,609.243 637.229,594.081 642.444,579.015 647.658,564.056 652.872,549.216 658.087,534.507 663.301,519.94 668.516,505.526 \n",
       "  673.73,491.277 678.944,477.203 684.159,463.316 689.373,449.626 694.587,436.144 699.802,422.879 705.016,409.842 710.23,397.042 715.445,384.489 720.659,372.193 \n",
       "  725.874,360.161 731.088,348.402 736.302,336.925 741.517,325.738 746.731,314.847 751.945,304.261 757.16,293.985 762.374,284.027 767.589,274.391 772.803,265.085 \n",
       "  778.017,256.112 783.232,247.479 788.446,239.188 793.66,231.244 798.875,223.651 804.089,216.41 809.303,209.526 814.518,203 819.732,196.833 824.947,191.027 \n",
       "  830.161,185.582 835.375,180.499 840.59,175.777 845.804,171.416 851.018,167.415 856.233,163.771 861.447,160.484 866.661,157.549 871.876,154.965 877.09,152.728 \n",
       "  882.305,150.834 887.519,149.279 892.733,148.058 897.948,147.165 903.162,146.596 908.376,146.343 913.591,146.402 918.805,146.765 924.02,147.425 929.234,148.374 \n",
       "  934.448,149.604 939.663,151.109 944.877,152.878 950.091,154.903 955.306,157.174 960.52,159.684 965.734,162.421 970.949,165.375 976.163,168.537 981.378,171.897 \n",
       "  986.592,175.442 991.806,179.164 997.021,183.05 1002.24,187.089 1007.45,191.271 1012.66,195.583 1017.88,200.014 1023.09,204.552 1028.31,209.187 1033.52,213.905 \n",
       "  1038.74,218.695 1043.95,223.546 1049.16,228.445 1054.38,233.38 1059.59,238.341 1064.81,243.315 1070.02,248.29 1075.24,253.255 1080.45,258.198 1085.66,263.109 \n",
       "  1090.88,267.976 1096.09,272.787 1101.31,277.533 1106.52,282.202 1111.74,286.785 1116.95,291.27 1122.17,295.648 1127.38,299.909 1132.59,304.043 1137.81,308.043 \n",
       "  1143.02,311.898 1148.24,315.6 1153.45,319.141 1158.67,322.514 1163.88,325.71 1169.09,328.722 1174.31,331.544 1179.52,334.17 1184.74,336.592 1189.95,338.807 \n",
       "  1195.17,340.808 1200.38,342.591 1205.6,344.152 1210.81,345.486 1216.02,346.59 1221.24,347.462 1226.45,348.098 1231.67,348.498 1236.88,348.658 1242.1,348.577 \n",
       "  1247.31,348.257 1252.52,347.695 1257.74,346.892 1262.95,345.849 1268.17,344.567 1273.38,343.047 1278.6,341.292 1283.81,339.305 1289.03,337.088 1294.24,334.644 \n",
       "  1299.45,331.978 1304.67,329.094 1309.88,325.997 1315.1,322.691 1320.31,319.182 1325.53,315.477 1330.74,311.582 1335.95,307.503 1341.17,303.248 1346.38,298.823 \n",
       "  1351.6,294.238 1356.81,289.5 1362.03,284.618 1367.24,279.6 1372.46,274.456 1377.67,269.195 1382.88,263.827 1388.1,258.362 1393.31,252.81 1398.53,247.181 \n",
       "  1403.74,241.486 1408.96,235.737 1414.17,229.943 1419.38,224.117 1424.6,218.268 1429.81,212.41 1435.03,206.554 1440.24,200.71 1445.46,194.892 1450.67,189.11 \n",
       "  1455.88,183.376 1461.1,177.703 1466.31,172.101 1471.53,166.584 1476.74,161.163 1481.96,155.849 1487.17,150.654 1492.39,145.589 1497.6,140.667 1502.81,135.898 \n",
       "  1508.03,131.294 1513.24,126.865 1518.46,122.622 1523.67,118.577 1528.89,114.74 1534.1,111.12 1539.31,107.728 1544.53,104.573 1549.74,101.665 1554.96,99.0128 \n",
       "  1560.17,96.6257 1565.39,94.512 1570.6,92.6799 1575.82,91.1372 1581.03,89.8914 1586.24,88.9497 1591.46,88.3189 1596.67,88.0053 1601.89,88.015 1607.1,88.3534 \n",
       "  1612.32,89.0258 1617.53,90.0369 1622.74,91.391 1627.96,93.092 1633.17,95.1433 1638.39,97.548 1643.6,100.308 1648.82,103.427 1654.03,106.905 1659.25,110.744 \n",
       "  1664.46,114.944 1669.67,119.505 1674.89,124.429 1680.1,129.712 1685.32,135.356 1690.53,141.357 1695.75,147.714 1700.96,154.425 1706.17,161.486 1711.39,168.894 \n",
       "  1716.6,176.644 1721.82,184.734 1727.03,193.157 1732.25,201.909 1737.46,210.985 1742.68,220.378 1747.89,230.081 1753.1,240.089 1758.32,250.393 1763.53,260.987 \n",
       "  1768.75,271.863 1773.96,283.012 1779.18,294.426 1784.39,306.095 1789.6,318.012 1794.82,330.166 1800.03,342.548 1805.25,355.147 1810.46,367.954 1815.68,380.959 \n",
       "  1820.89,394.149 1826.1,407.515 1831.32,421.046 1836.53,434.73 1841.75,448.557 1846.96,462.513 1852.18,476.589 1857.39,490.773 1862.61,505.052 1867.82,519.415 \n",
       "  1873.03,533.85 1878.25,548.346 1883.46,562.889 1888.68,577.47 1893.89,592.075 1899.11,606.694 1904.32,621.314 1909.53,635.924 1914.75,650.512 1919.96,665.068 \n",
       "  1925.18,679.579 1930.39,694.036 1935.61,708.426 1940.82,722.74 1946.04,736.967 1951.25,751.097 1956.46,765.12 1961.68,779.026 1966.89,792.805 1972.11,806.45 \n",
       "  1977.32,819.95 1982.54,833.297 1987.75,846.483 1992.96,859.5 1998.18,872.341 2003.39,884.998 2008.61,897.465 2013.82,909.735 2019.04,921.803 2024.25,933.662 \n",
       "  2029.47,945.308 2034.68,956.736 2039.89,967.941 2045.11,978.92 2050.32,989.67 2055.54,1000.19 2060.75,1010.47 2065.97,1020.51 2071.18,1030.32 2076.39,1039.88 \n",
       "  2081.61,1049.2 2086.82,1058.29 2092.04,1067.13 2097.25,1075.73 2102.47,1084.09 2107.68,1092.22 2112.9,1100.11 2118.11,1107.77 2123.32,1115.19 2128.54,1122.4 \n",
       "  2133.75,1129.38 2138.97,1136.14 2144.18,1142.68 2149.4,1149.02 2154.61,1155.16 2159.82,1161.1 2165.04,1166.85 2170.25,1172.41 2175.47,1177.8 2180.68,1183.02 \n",
       "  2185.9,1188.08 2191.11,1192.99 2196.32,1197.75 2201.54,1202.38 2206.75,1206.88 2211.97,1211.26 2217.18,1215.54 2222.4,1219.72 2227.61,1223.81 2232.83,1227.83 \n",
       "  2238.04,1231.78 2243.25,1235.67 2248.47,1239.53 2253.68,1243.34 2258.9,1247.14 2264.11,1250.93 2269.33,1254.72 2274.54,1258.52 2279.75,1262.34 2284.97,1266.21 \n",
       "  2290.18,1270.12 \n",
       "  \"/>\n",
       "<path clip-path=\"url(#clip7700)\" d=\"\n",
       "M1989.93 251.724 L2280.76 251.724 L2280.76 130.764 L1989.93 130.764  Z\n",
       "  \" fill=\"#ffffff\" fill-rule=\"evenodd\" fill-opacity=\"1\"/>\n",
       "<polyline clip-path=\"url(#clip7700)\" style=\"stroke:#000000; stroke-width:4; stroke-opacity:1; fill:none\" points=\"\n",
       "  1989.93,251.724 2280.76,251.724 2280.76,130.764 1989.93,130.764 1989.93,251.724 \n",
       "  \"/>\n",
       "<polyline clip-path=\"url(#clip7700)\" style=\"stroke:#009af9; stroke-width:4; stroke-opacity:1; fill:none\" points=\"\n",
       "  2013.93,191.244 2157.93,191.244 \n",
       "  \"/>\n",
       "<g clip-path=\"url(#clip7700)\">\n",
       "<text style=\"fill:#000000; fill-opacity:1; font-family:Arial,Helvetica Neue,Helvetica,sans-serif; font-size:48px; text-anchor:start;\" transform=\"rotate(0, 2181.93, 208.744)\" x=\"2181.93\" y=\"208.744\">y1</text>\n",
       "</g>\n",
       "</svg>\n"
      ]
     },
     "execution_count": 93,
     "metadata": {},
     "output_type": "execute_result"
    }
   ],
   "source": [
    "plot(x,f)"
   ]
  },
  {
   "cell_type": "code",
   "execution_count": 94,
   "metadata": {},
   "outputs": [
    {
     "data": {
      "text/plain": [
       "zeroth_derivative (generic function with 1 method)"
      ]
     },
     "execution_count": 94,
     "metadata": {},
     "output_type": "execute_result"
    }
   ],
   "source": [
    "function zeroth_derivative(x)\n",
    "    \n",
    "    return sin(x) + x - (x^2)/10\n",
    "    \n",
    "end"
   ]
  },
  {
   "cell_type": "code",
   "execution_count": 95,
   "metadata": {},
   "outputs": [
    {
     "data": {
      "text/plain": [
       "first_derivative (generic function with 1 method)"
      ]
     },
     "execution_count": 95,
     "metadata": {},
     "output_type": "execute_result"
    }
   ],
   "source": [
    "function first_derivative(x)\n",
    "    \n",
    "    return cos(x) + 1 - (x/5)\n",
    "\n",
    "end"
   ]
  },
  {
   "cell_type": "code",
   "execution_count": 96,
   "metadata": {},
   "outputs": [
    {
     "data": {
      "text/plain": [
       "second_derivative (generic function with 1 method)"
      ]
     },
     "execution_count": 96,
     "metadata": {},
     "output_type": "execute_result"
    }
   ],
   "source": [
    "function second_derivative(x)\n",
    "    \n",
    "    return -sin(x)-(1/5)\n",
    "    \n",
    "end"
   ]
  },
  {
   "cell_type": "code",
   "execution_count": 97,
   "metadata": {},
   "outputs": [],
   "source": [
    "x = 8\n",
    "maximum_iterations = 10\n",
    "\n",
    "for iteration = 1:maximum_iterations\n",
    "    \n",
    "    x = x - (zeroth_derivative(x)/first_derivative(x))\n",
    "    \n",
    "end"
   ]
  },
  {
   "cell_type": "code",
   "execution_count": 98,
   "metadata": {},
   "outputs": [
    {
     "data": {
      "text/plain": [
       "9.71011541530111"
      ]
     },
     "execution_count": 98,
     "metadata": {},
     "output_type": "execute_result"
    }
   ],
   "source": [
    "x"
   ]
  },
  {
   "cell_type": "code",
   "execution_count": null,
   "metadata": {},
   "outputs": [],
   "source": []
  },
  {
   "cell_type": "code",
   "execution_count": null,
   "metadata": {},
   "outputs": [],
   "source": []
  }
 ],
 "metadata": {
  "kernelspec": {
   "display_name": "Julia 1.4.1",
   "language": "julia",
   "name": "julia-1.4"
  },
  "language_info": {
   "file_extension": ".jl",
   "mimetype": "application/julia",
   "name": "julia",
   "version": "1.4.1"
  }
 },
 "nbformat": 4,
 "nbformat_minor": 2
}
